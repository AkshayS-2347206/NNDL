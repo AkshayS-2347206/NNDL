{
  "nbformat": 4,
  "nbformat_minor": 0,
  "metadata": {
    "colab": {
      "provenance": [],
      "gpuType": "T4"
    },
    "kernelspec": {
      "name": "python3",
      "display_name": "Python 3"
    },
    "language_info": {
      "name": "python"
    },
    "accelerator": "GPU"
  },
  "cells": [
    {
      "cell_type": "code",
      "execution_count": 1,
      "metadata": {
        "id": "cUF1P1cXxmss"
      },
      "outputs": [],
      "source": [
        "import tensorflow as tf\n",
        "import numpy as np\n",
        "from sklearn.model_selection import train_test_split\n",
        "from tensorflow.keras.datasets import cifar10\n",
        "from sklearn.neural_network import BernoulliRBM\n",
        "from sklearn.pipeline import Pipeline\n",
        "from sklearn.linear_model import LogisticRegression\n",
        "from sklearn.metrics import accuracy_score, f1_score\n",
        "from sklearn.preprocessing import MinMaxScaler"
      ]
    },
    {
      "cell_type": "code",
      "source": [
        "(x_train, y_train), (x_test, y_test) = cifar10.load_data()"
      ],
      "metadata": {
        "colab": {
          "base_uri": "https://localhost:8080/"
        },
        "id": "EYyrCGh9x-pt",
        "outputId": "cf4922c8-3c0c-4987-df56-4d41bb66185f"
      },
      "execution_count": 2,
      "outputs": [
        {
          "output_type": "stream",
          "name": "stdout",
          "text": [
            "Downloading data from https://www.cs.toronto.edu/~kriz/cifar-10-python.tar.gz\n",
            "\u001b[1m170498071/170498071\u001b[0m \u001b[32m━━━━━━━━━━━━━━━━━━━━\u001b[0m\u001b[37m\u001b[0m \u001b[1m3s\u001b[0m 0us/step\n"
          ]
        }
      ]
    },
    {
      "cell_type": "code",
      "source": [
        "x = np.concatenate([x_train, x_test], axis=0)\n",
        "y = np.concatenate([y_train, y_test], axis=0)"
      ],
      "metadata": {
        "id": "gvhbYkTdyOOj"
      },
      "execution_count": 3,
      "outputs": []
    },
    {
      "cell_type": "code",
      "source": [
        "# Convert to grayscale and normalize\n",
        "x = np.mean(x, axis=-1) / 255.0\n",
        "x = x.reshape(x.shape[0], -1)"
      ],
      "metadata": {
        "id": "r0tFLZVMyPR6"
      },
      "execution_count": 4,
      "outputs": []
    },
    {
      "cell_type": "code",
      "source": [
        "x_train, x_test, y_train, y_test = train_test_split(x, y, test_size=0.2, random_state=42)"
      ],
      "metadata": {
        "id": "3iJN58h2yQse"
      },
      "execution_count": 5,
      "outputs": []
    },
    {
      "cell_type": "code",
      "source": [
        "# RBM Parameters\n",
        "visible_units = x_train.shape[1]\n",
        "hidden_units = 256\n",
        "learning_rate = 0.01\n",
        "epochs = 10\n",
        "batch_size = 64"
      ],
      "metadata": {
        "id": "TetSx9amyR1Q"
      },
      "execution_count": 6,
      "outputs": []
    },
    {
      "cell_type": "code",
      "source": [
        "# Initialize weights and biases\n",
        "W = tf.Variable(tf.random.normal([visible_units, hidden_units], stddev=0.01), trainable=True)\n",
        "h_bias = tf.Variable(tf.zeros([hidden_units]), trainable=True)\n",
        "v_bias = tf.Variable(tf.zeros([visible_units]), trainable=True)"
      ],
      "metadata": {
        "id": "Euya_X-dyTIw"
      },
      "execution_count": 7,
      "outputs": []
    },
    {
      "cell_type": "code",
      "source": [
        "# Gibbs sampling functions\n",
        "def sample_prob(probs):\n",
        "    return tf.nn.relu(tf.sign(probs - tf.random.uniform(tf.shape(probs))))\n",
        "\n",
        "def forward_pass(v):\n",
        "    h_prob = tf.nn.sigmoid(tf.matmul(v, W) + h_bias)\n",
        "    h_sample = sample_prob(h_prob)\n",
        "    return h_prob, h_sample\n",
        "\n",
        "def backward_pass(h):\n",
        "    v_prob = tf.nn.sigmoid(tf.matmul(h, tf.transpose(W)) + v_bias)\n",
        "    v_sample = sample_prob(v_prob)\n",
        "    return v_prob, v_sample\n",
        "\n",
        "# Contrastive Divergence\n",
        "def contrastive_divergence(v0):\n",
        "    h_prob, h_sample = forward_pass(v0)\n",
        "    v_prob, v_sample = backward_pass(h_sample)\n",
        "\n",
        "    positive_grad = tf.matmul(tf.transpose(v0), h_prob)\n",
        "    negative_grad = tf.matmul(tf.transpose(v_sample), h_prob)\n",
        "\n",
        "    dW = positive_grad - negative_grad\n",
        "    dv_bias = tf.reduce_mean(v0 - v_sample, axis=0)\n",
        "    dh_bias = tf.reduce_mean(h_prob - h_sample, axis=0)\n",
        "\n",
        "    return dW, dv_bias, dh_bias\n",
        "\n",
        "# Training loop\n",
        "optimizer = tf.keras.optimizers.SGD(learning_rate)\n",
        "\n",
        "for epoch in range(epochs):\n",
        "    for i in range(0, x_train.shape[0], batch_size):\n",
        "        batch = x_train[i:i + batch_size].astype('float32')  # Ensure batch is float32\n",
        "        with tf.GradientTape() as tape:\n",
        "            dW, dv_bias, dh_bias = contrastive_divergence(batch)\n",
        "        gradients = [dW, dv_bias, dh_bias]\n",
        "        optimizer.apply_gradients(zip(gradients, [W, v_bias, h_bias]))\n",
        "\n",
        "    print(f\"Epoch {epoch + 1}/{epochs} completed\")\n",
        "\n",
        "\n",
        "# Ensuring input data is float32\n",
        "x_train = x_train.astype('float32')\n",
        "x_test = x_test.astype('float32')\n",
        "\n",
        "# Ensuring variables are float32\n",
        "W = tf.Variable(tf.random.normal([visible_units, hidden_units], stddev=0.01, dtype=tf.float32), trainable=True)\n",
        "h_bias = tf.Variable(tf.zeros([hidden_units], dtype=tf.float32), trainable=True)\n",
        "v_bias = tf.Variable(tf.zeros([visible_units], dtype=tf.float32), trainable=True)\n",
        "\n",
        "# Converting inputs to tensors before forward_pass\n",
        "x_train_tensor = tf.convert_to_tensor(x_train, dtype=tf.float32)\n",
        "x_test_tensor = tf.convert_to_tensor(x_test, dtype=tf.float32)\n",
        "\n",
        "# Extracting hidden representations\n",
        "h_prob_train, _ = forward_pass(x_train_tensor)\n",
        "h_prob_test, _ = forward_pass(x_test_tensor)"
      ],
      "metadata": {
        "colab": {
          "base_uri": "https://localhost:8080/"
        },
        "id": "0l0gmgzKyUO5",
        "outputId": "d9d859c8-29b4-41df-ec4f-ef5d7ece147e"
      },
      "execution_count": 8,
      "outputs": [
        {
          "output_type": "stream",
          "name": "stdout",
          "text": [
            "Epoch 1/10 completed\n",
            "Epoch 2/10 completed\n",
            "Epoch 3/10 completed\n",
            "Epoch 4/10 completed\n",
            "Epoch 5/10 completed\n",
            "Epoch 6/10 completed\n",
            "Epoch 7/10 completed\n",
            "Epoch 8/10 completed\n",
            "Epoch 9/10 completed\n",
            "Epoch 10/10 completed\n"
          ]
        }
      ]
    },
    {
      "cell_type": "code",
      "source": [
        "import matplotlib.pyplot as plt\n",
        "\n",
        "def visualize_features(original_images, extracted_features, num_images=5):\n",
        "\n",
        "    # Ensure the number of images does not exceed the available data\n",
        "    num_images = min(num_images, len(original_images))\n",
        "\n",
        "    plt.figure(figsize=(10, 4))\n",
        "\n",
        "    for i in range(num_images):\n",
        "        plt.subplot(2, num_images, i + 1)\n",
        "        plt.imshow(original_images[i].reshape(32, 32), cmap='gray')\n",
        "        plt.title(\"Original\")\n",
        "        plt.axis('off')\n",
        "\n",
        "        plt.subplot(2, num_images, i + 1 + num_images)\n",
        "        plt.imshow(extracted_features[i].reshape(16, 16), cmap='gray')\n",
        "        plt.title(\"Features\")\n",
        "        plt.axis('off')\n",
        "\n",
        "    plt.tight_layout()\n",
        "    plt.show()\n",
        "\n",
        "# Example usage:\n",
        "# Assuming `x_test` contains original images and `h_prob_test` are extracted features\n",
        "# Reshape h_prob_test to have 2D spatial representation if necessary\n",
        "h_prob_test_reshaped = h_prob_test.numpy().reshape(-1, 16, 16)\n",
        "visualize_features(x_test, h_prob_test_reshaped)\n"
      ],
      "metadata": {
        "colab": {
          "base_uri": "https://localhost:8080/",
          "height": 410
        },
        "id": "Z3PO6uvIzCLS",
        "outputId": "d4f08ead-0095-4a7d-e41a-7abd63b37b68"
      },
      "execution_count": 9,
      "outputs": [
        {
          "output_type": "display_data",
          "data": {
            "text/plain": [
              "<Figure size 1000x400 with 10 Axes>"
            ],
            "image/png": "[encoded data removed]"
          },
          "metadata": {}
        }
      ]
    },
    {
      "cell_type": "code",
      "source": [
        "# Preprocess data\n",
        "scaler = MinMaxScaler(feature_range=(0, 1))\n",
        "x_train_scaled = scaler.fit_transform(x_train)\n",
        "x_test_scaled = scaler.transform(x_test)\n",
        "\n",
        "# Define RBM\n",
        "rbm = BernoulliRBM(n_components=256, learning_rate=0.01, n_iter=10, verbose=True)\n",
        "\n",
        "# Define Logistic Regression classifier\n",
        "logistic = LogisticRegression(max_iter=1000)\n",
        "\n",
        "# Create pipeline\n",
        "classifier = Pipeline(steps=[('rbm', rbm), ('logistic', logistic)])\n",
        "\n",
        "# Train RBM and classifier\n",
        "classifier.fit(x_train_scaled, y_train.ravel())\n",
        "\n",
        "# Make predictions\n",
        "y_pred = classifier.predict(x_test_scaled)\n",
        "\n",
        "# Evaluate performance\n",
        "accuracy = accuracy_score(y_test, y_pred)\n",
        "f1 = f1_score(y_test, y_pred, average='weighted')\n",
        "\n",
        "print(f\"Accuracy: {accuracy:.4f}, F1-Score: {f1:.4f}\")"
      ],
      "metadata": {
        "colab": {
          "base_uri": "https://localhost:8080/"
        },
        "id": "F8wktx5RzEB7",
        "outputId": "a10a98f8-f006-40b7-f6ce-988f0039661c"
      },
      "execution_count": 10,
      "outputs": [
        {
          "output_type": "stream",
          "name": "stdout",
          "text": [
            "[BernoulliRBM] Iteration 1, pseudo-likelihood = -622.82, time = 38.33s\n",
            "[BernoulliRBM] Iteration 2, pseudo-likelihood = -610.50, time = 40.48s\n",
            "[BernoulliRBM] Iteration 3, pseudo-likelihood = -605.24, time = 31.82s\n",
            "[BernoulliRBM] Iteration 4, pseudo-likelihood = -593.23, time = 31.48s\n",
            "[BernoulliRBM] Iteration 5, pseudo-likelihood = -595.61, time = 31.68s\n",
            "[BernoulliRBM] Iteration 6, pseudo-likelihood = -589.91, time = 33.59s\n",
            "[BernoulliRBM] Iteration 7, pseudo-likelihood = -594.36, time = 31.98s\n",
            "[BernoulliRBM] Iteration 8, pseudo-likelihood = -591.72, time = 33.88s\n",
            "[BernoulliRBM] Iteration 9, pseudo-likelihood = -599.76, time = 31.09s\n",
            "[BernoulliRBM] Iteration 10, pseudo-likelihood = -589.75, time = 33.28s\n",
            "Accuracy: 0.3591, F1-Score: 0.3543\n"
          ]
        }
      ]
    },
    {
      "cell_type": "markdown",
      "source": [
        "**Interpretation**\n",
        "\n",
        "**Original**:\n",
        "\n",
        "These are grayscale representations of original images, possibly from a dataset like CIFAR-10 or a similar image dataset used in computer vision tasks. The images include different objects, such as vehicles, ships, and animals.\n",
        "\n",
        "**Features**:\n",
        "\n",
        "These images appear to represent extracted features from the original images, likely obtained using a machine learning or deep learning model (e.g., a convolutional neural network). Each image in this row shows a grid of pixel intensities that correspond to the learned or detected features from the original images above them.\n",
        "\n",
        "**Discuss how RBM has helped in extracting more meaningful features.**\n",
        "\n",
        "Restricted Boltzmann Machines (RBMs) help extract meaningful features by learning compact and efficient representations of the input data. By modeling the joint probability distribution of the input, RBMs capture underlying dependencies and correlations between features, such as pixels in an image, enabling the identification of global patterns like edges, textures, and shapes. This process reduces high-dimensional data, such as raw pixel intensities, into a lower-dimensional feature space that retains essential information while filtering out noise and irrelevant details. RBMs also excel at learning hierarchical features, where simple patterns like edges can combine to form more complex representations, making the extracted features as seen in the feature row of the graph more interpretable and suitable for tasks like classification or clustering."
      ],
      "metadata": {
        "id": "nFmK4Ado0nCH"
      }
    }
  ]
}